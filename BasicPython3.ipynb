{
 "cells": [
  {
   "cell_type": "code",
   "execution_count": 1,
   "id": "6ea97eb0-a2b9-4981-aa28-9b32a331c8a0",
   "metadata": {},
   "outputs": [
    {
     "name": "stdout",
     "output_type": "stream",
     "text": [
      "welcome to QUIZ GAME!\n"
     ]
    },
    {
     "name": "stdin",
     "output_type": "stream",
     "text": [
      "please enter your name: yogita\n"
     ]
    },
    {
     "name": "stdout",
     "output_type": "stream",
     "text": [
      "Hello Yogita\n",
      "Q.who is the capital of india?\n",
      "And here is your option-A:delhi,B:mumbai,C:kolkata\n"
     ]
    },
    {
     "name": "stdin",
     "output_type": "stream",
     "text": [
      "please enter your right option here: b\n"
     ]
    },
    {
     "name": "stdout",
     "output_type": "stream",
     "text": [
      "Oops!\n",
      "Q.In which city jijabai bhosale udyan loacted ?\n",
      "And here is your option-A:delhi,B:mumbai,C:kolkata\n"
     ]
    },
    {
     "name": "stdin",
     "output_type": "stream",
     "text": [
      "please enter your right option here: b\n"
     ]
    },
    {
     "name": "stdout",
     "output_type": "stream",
     "text": [
      "correct answer\n",
      "Attempt question= 2\n",
      "Right answer= 1\n",
      "Wrong answer= 1\n",
      "Final score= 10\n"
     ]
    }
   ],
   "source": [
    "#QUIZ GAME:\n",
    "#WELCOME USER\n",
    "print(\"welcome to QUIZ GAME!\")\n",
    "#ASK USER NAME\n",
    "x=input(\"please enter your name:\")\n",
    "#GREET USER\n",
    "print(\"Hello\",x.title())\n",
    "#INITIALIZE SCORE BOARD\n",
    "score=0\n",
    "right_Q=0\n",
    "wrong_Q=0\n",
    "attempt_Q=0\n",
    "#ASK THE QUESTION\n",
    "print(\"Q.who is the capital of india?\")\n",
    "print(\"And here is your option-A:delhi,B:mumbai,C:kolkata\")\n",
    "ans=input(\"please enter your right option here:\").upper()\n",
    "\n",
    "#GIVE THE SCORE ACCORDING TO ANSWER\n",
    "if ans==\"A\":\n",
    "    print(\"correct answer\")\n",
    "    score+=10\n",
    "    right_Q+=1\n",
    "    attempt_Q+=1\n",
    "else:\n",
    "    print(\"Oops!\")\n",
    "    score=0\n",
    "    wrong_Q+=1\n",
    "    attempt_Q+=1\n",
    "#ASK THE QUESTION\n",
    "print(\"Q.In which city jijabai bhosale udyan loacted ?\")\n",
    "print(\"And here is your option-A:delhi,B:mumbai,C:kolkata\")\n",
    "ans=input(\"please enter your right option here:\").upper()\n",
    "#GIVE THE SCORE ACCORDING TO ANSWER\n",
    "if ans==\"B\":\n",
    "    \n",
    "    print(\"correct answer\")\n",
    "    score+=10\n",
    "    right_Q+=1\n",
    "    attempt_Q+=1\n",
    "else:\n",
    "    print(\"Oops!\")\n",
    "    score=0\n",
    "    wrong_Q+=1\n",
    "    attempt_Q+=1\n",
    "    \n",
    "#FINAL SCORE BOARD\n",
    "print(\"Attempt question=\",attempt_Q)\n",
    "print(\"Right answer=\",right_Q)\n",
    "print(\"Wrong answer=\",wrong_Q)\n",
    "print(\"Final score=\",score) "
   ]
  }
 ],
 "metadata": {
  "kernelspec": {
   "display_name": "Python 3 (ipykernel)",
   "language": "python",
   "name": "python3"
  },
  "language_info": {
   "codemirror_mode": {
    "name": "ipython",
    "version": 3
   },
   "file_extension": ".py",
   "mimetype": "text/x-python",
   "name": "python",
   "nbconvert_exporter": "python",
   "pygments_lexer": "ipython3",
   "version": "3.11.7"
  }
 },
 "nbformat": 4,
 "nbformat_minor": 5
}
