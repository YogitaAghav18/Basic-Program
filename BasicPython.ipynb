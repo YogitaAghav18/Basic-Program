{
 "cells": [
  {
   "cell_type": "code",
   "execution_count": 1,
   "id": "6ea97eb0-a2b9-4981-aa28-9b32a331c8a0",
   "metadata": {},
   "outputs": [
    {
     "name": "stdout",
     "output_type": "stream",
     "text": [
      "Welcome Adhar Card Center\n"
     ]
    },
    {
     "name": "stdin",
     "output_type": "stream",
     "text": [
      "please enter your name here: yogita\n"
     ]
    },
    {
     "name": "stdout",
     "output_type": "stream",
     "text": [
      "your name saved successfully yogita\n"
     ]
    },
    {
     "name": "stdin",
     "output_type": "stream",
     "text": [
      "please enter your phone number here: 456\n"
     ]
    },
    {
     "name": "stdout",
     "output_type": "stream",
     "text": [
      "phone number saved successfully 456\n"
     ]
    },
    {
     "name": "stdin",
     "output_type": "stream",
     "text": [
      "please enter your Email ID here: yogita\n"
     ]
    },
    {
     "name": "stdout",
     "output_type": "stream",
     "text": [
      "Email ID saved successfully yogita\n"
     ]
    },
    {
     "name": "stdin",
     "output_type": "stream",
     "text": [
      "please enter your address here: bha\n"
     ]
    },
    {
     "name": "stdout",
     "output_type": "stream",
     "text": [
      "your address saved successfully bha\n"
     ]
    },
    {
     "name": "stdin",
     "output_type": "stream",
     "text": [
      "enter your location: bad\n"
     ]
    },
    {
     "name": "stdout",
     "output_type": "stream",
     "text": [
      "your location will be bad\n"
     ]
    }
   ],
   "source": [
    "#Adhar card updation center:\n",
    "#welcome student\n",
    "print(\"welcome adhar card center\".title())\n",
    "#ask name\n",
    "name=input(\"please enter your name here:\")\n",
    "print(\"your name saved successfully\",name)\n",
    "#ask its phone no.\n",
    "ph_no=int(input(\"please enter your phone number here:\"))\n",
    "print(\"phone number saved successfully\",ph_no)\n",
    "#ask its email id\n",
    "email=input(\"please enter your Email ID here:\")\n",
    "print(\"Email ID saved successfully\",email)\n",
    "#ask its course\n",
    "add=input(\"please enter your address here:\")\n",
    "print(\"your address saved successfully\",add)\n",
    "#ask its location\n",
    "location=input(\"enter your location:\")\n",
    "print(\"your location saved successfully\",location)\n"
   ]
  }
 ],
 "metadata": {
  "kernelspec": {
   "display_name": "Python 3 (ipykernel)",
   "language": "python",
   "name": "python3"
  },
  "language_info": {
   "codemirror_mode": {
    "name": "ipython",
    "version": 3
   },
   "file_extension": ".py",
   "mimetype": "text/x-python",
   "name": "python",
   "nbconvert_exporter": "python",
   "pygments_lexer": "ipython3",
   "version": "3.11.7"
  }
 },
 "nbformat": 4,
 "nbformat_minor": 5
}
