{
 "cells": [
  {
   "cell_type": "code",
   "execution_count": 3,
   "id": "6ea97eb0-a2b9-4981-aa28-9b32a331c8a0",
   "metadata": {},
   "outputs": [
    {
     "name": "stdout",
     "output_type": "stream",
     "text": [
      "'welcome mumbai travel diary'\n"
     ]
    },
    {
     "name": "stdin",
     "output_type": "stream",
     "text": [
      "please enter your name: yogita\n"
     ]
    },
    {
     "name": "stdout",
     "output_type": "stream",
     "text": [
      "hello! Yogita\n"
     ]
    },
    {
     "name": "stdin",
     "output_type": "stream",
     "text": [
      "please enter your budget: 1000\n"
     ]
    },
    {
     "name": "stdout",
     "output_type": "stream",
     "text": [
      "please visit jijabai bhosale udyan\n"
     ]
    }
   ],
   "source": [
    "#mumbai travel diary:\n",
    "#welcome user\n",
    "print(\"'welcome mumbai travel diary'\")\n",
    "#ask user name\n",
    "user_name=input(\"please enter your name:\")\n",
    "#greet user\n",
    "print(\"hello!\",user_name.title())\n",
    "#ask user to its budget\n",
    "user_budget=int(input(\"please enter your budget:\"))\n",
    "#5000>visit taj hotel\n",
    "if(user_budget>5000):\n",
    "    Print(\"please visit Taj hotel\")\n",
    "#3000-5000 visit get way of india\n",
    "elif(user_budget>3000 and user_budget<=5000):\n",
    "    print(\"please visit Get way of india\")\n",
    "#2000-3000 visit neheru centre\n",
    "elif(user_budget>2000 and user_budget<=3000):\n",
    "    print(\"please visit Neheru centre\")\n",
    "#1000-2000 visit jijabai bhosale udyan\n",
    "elif(user_budget>500 and user_budget<=2000):\n",
    "    print(\"please visit jijabai bhosale udyan\")\n",
    "#less than 500 no option\n",
    "else:\n",
    "    print(\"we don't have option for your budget\")\n",
    "    print(\"Thank you for visiting here!\")\n",
    "    print(\"have a nice day\".title())\n"
   ]
  }
 ],
 "metadata": {
  "kernelspec": {
   "display_name": "Python 3 (ipykernel)",
   "language": "python",
   "name": "python3"
  },
  "language_info": {
   "codemirror_mode": {
    "name": "ipython",
    "version": 3
   },
   "file_extension": ".py",
   "mimetype": "text/x-python",
   "name": "python",
   "nbconvert_exporter": "python",
   "pygments_lexer": "ipython3",
   "version": "3.11.7"
  }
 },
 "nbformat": 4,
 "nbformat_minor": 5
}
